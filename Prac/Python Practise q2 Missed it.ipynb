{
 "cells": [
  {
   "cell_type": "code",
   "execution_count": null,
   "id": "cb0a86fa",
   "metadata": {},
   "outputs": [],
   "source": [
    "x = [int(x) for x in input().split()]\n",
    "\n",
    "x.sort()\n",
    "length=len(x)\n",
    "\n",
    "end=x[length-1]\n",
    "start=x[0]\n",
    "\n",
    "out=[]\n",
    "for i in range(start,end):\n",
    "    if i not in x:\n",
    "        out.append(i)\n",
    "print(out)"
   ]
  }
 ],
 "metadata": {
  "kernelspec": {
   "display_name": "Python 3 (ipykernel)",
   "language": "python",
   "name": "python3"
  },
  "language_info": {
   "codemirror_mode": {
    "name": "ipython",
    "version": 3
   },
   "file_extension": ".py",
   "mimetype": "text/x-python",
   "name": "python",
   "nbconvert_exporter": "python",
   "pygments_lexer": "ipython3",
   "version": "3.9.7"
  }
 },
 "nbformat": 4,
 "nbformat_minor": 5
}
