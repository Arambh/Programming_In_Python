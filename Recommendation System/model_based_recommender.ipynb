{
 "cells": [
  {
   "cell_type": "code",
   "execution_count": 1,
   "id": "c4f5d763",
   "metadata": {},
   "outputs": [],
   "source": [
    "import pandas as pd\n",
    "import os\n",
    "import surprise\n",
    "import numpy as np"
   ]
  },
  {
   "cell_type": "code",
   "execution_count": 2,
   "id": "2ba7f8d8",
   "metadata": {},
   "outputs": [],
   "source": [
    "data_dir = r\"C:\\Users\\fabi\\Desktop\\DONO\\Manipal_Deloitte\\Recommendation System\\ml-latest-small\"\n",
    "os.chdir(data_dir)"
   ]
  },
  {
   "cell_type": "code",
   "execution_count": 3,
   "id": "034bb71e",
   "metadata": {},
   "outputs": [
    {
     "data": {
      "text/html": [
       "<div>\n",
       "<style scoped>\n",
       "    .dataframe tbody tr th:only-of-type {\n",
       "        vertical-align: middle;\n",
       "    }\n",
       "\n",
       "    .dataframe tbody tr th {\n",
       "        vertical-align: top;\n",
       "    }\n",
       "\n",
       "    .dataframe thead th {\n",
       "        text-align: right;\n",
       "    }\n",
       "</style>\n",
       "<table border=\"1\" class=\"dataframe\">\n",
       "  <thead>\n",
       "    <tr style=\"text-align: right;\">\n",
       "      <th></th>\n",
       "      <th>userId</th>\n",
       "      <th>movieId</th>\n",
       "      <th>rating</th>\n",
       "      <th>timestamp</th>\n",
       "    </tr>\n",
       "  </thead>\n",
       "  <tbody>\n",
       "    <tr>\n",
       "      <th>0</th>\n",
       "      <td>1</td>\n",
       "      <td>31</td>\n",
       "      <td>2.5</td>\n",
       "      <td>1260759144</td>\n",
       "    </tr>\n",
       "    <tr>\n",
       "      <th>1</th>\n",
       "      <td>1</td>\n",
       "      <td>1029</td>\n",
       "      <td>3.0</td>\n",
       "      <td>1260759179</td>\n",
       "    </tr>\n",
       "    <tr>\n",
       "      <th>2</th>\n",
       "      <td>1</td>\n",
       "      <td>1061</td>\n",
       "      <td>3.0</td>\n",
       "      <td>1260759182</td>\n",
       "    </tr>\n",
       "    <tr>\n",
       "      <th>3</th>\n",
       "      <td>1</td>\n",
       "      <td>1129</td>\n",
       "      <td>2.0</td>\n",
       "      <td>1260759185</td>\n",
       "    </tr>\n",
       "    <tr>\n",
       "      <th>4</th>\n",
       "      <td>1</td>\n",
       "      <td>1172</td>\n",
       "      <td>4.0</td>\n",
       "      <td>1260759205</td>\n",
       "    </tr>\n",
       "  </tbody>\n",
       "</table>\n",
       "</div>"
      ],
      "text/plain": [
       "   userId  movieId  rating   timestamp\n",
       "0       1       31     2.5  1260759144\n",
       "1       1     1029     3.0  1260759179\n",
       "2       1     1061     3.0  1260759182\n",
       "3       1     1129     2.0  1260759185\n",
       "4       1     1172     4.0  1260759205"
      ]
     },
     "execution_count": 3,
     "metadata": {},
     "output_type": "execute_result"
    }
   ],
   "source": [
    "mr = pd.read_csv(\"ratings.csv\")\n",
    "mr.head()"
   ]
  },
  {
   "cell_type": "code",
   "execution_count": 4,
   "id": "dc95683b",
   "metadata": {},
   "outputs": [],
   "source": [
    "mr.drop('timestamp', axis=1, inplace=True)"
   ]
  },
  {
   "cell_type": "code",
   "execution_count": 5,
   "id": "603136d6",
   "metadata": {},
   "outputs": [],
   "source": [
    "mr.rename(columns={'userId':'user', 'movieId':'item', 'rating':'rating'}, inplace=True)"
   ]
  },
  {
   "cell_type": "code",
   "execution_count": 6,
   "id": "f2754162",
   "metadata": {},
   "outputs": [],
   "source": [
    "reader = surprise.dataset.Reader(line_format='user item rating', rating_scale=(0,5))"
   ]
  },
  {
   "cell_type": "code",
   "execution_count": 7,
   "id": "1b131b42",
   "metadata": {},
   "outputs": [],
   "source": [
    "mr_train = surprise.dataset.Dataset.load_from_df(mr, reader)"
   ]
  },
  {
   "cell_type": "code",
   "execution_count": 8,
   "id": "44e0a342",
   "metadata": {},
   "outputs": [],
   "source": [
    "mr_trainset = mr_train.build_full_trainset()"
   ]
  },
  {
   "cell_type": "code",
   "execution_count": 9,
   "id": "76656f8f",
   "metadata": {},
   "outputs": [],
   "source": [
    "from surprise import SVD"
   ]
  },
  {
   "cell_type": "code",
   "execution_count": 10,
   "id": "a083e3bf",
   "metadata": {},
   "outputs": [],
   "source": [
    "svd = SVD(n_factors=20)"
   ]
  },
  {
   "cell_type": "code",
   "execution_count": 11,
   "id": "26aaa7e5",
   "metadata": {},
   "outputs": [
    {
     "data": {
      "text/plain": [
       "<surprise.prediction_algorithms.matrix_factorization.SVD at 0x18d5b537700>"
      ]
     },
     "execution_count": 11,
     "metadata": {},
     "output_type": "execute_result"
    }
   ],
   "source": [
    "svd.fit(mr_trainset)"
   ]
  },
  {
   "cell_type": "code",
   "execution_count": 12,
   "id": "7e089738",
   "metadata": {},
   "outputs": [
    {
     "data": {
      "text/html": [
       "<div>\n",
       "<style scoped>\n",
       "    .dataframe tbody tr th:only-of-type {\n",
       "        vertical-align: middle;\n",
       "    }\n",
       "\n",
       "    .dataframe tbody tr th {\n",
       "        vertical-align: top;\n",
       "    }\n",
       "\n",
       "    .dataframe thead th {\n",
       "        text-align: right;\n",
       "    }\n",
       "</style>\n",
       "<table border=\"1\" class=\"dataframe\">\n",
       "  <thead>\n",
       "    <tr style=\"text-align: right;\">\n",
       "      <th></th>\n",
       "      <th>user</th>\n",
       "      <th>item</th>\n",
       "      <th>rating</th>\n",
       "    </tr>\n",
       "  </thead>\n",
       "  <tbody>\n",
       "    <tr>\n",
       "      <th>0</th>\n",
       "      <td>1</td>\n",
       "      <td>31</td>\n",
       "      <td>2.5</td>\n",
       "    </tr>\n",
       "    <tr>\n",
       "      <th>1</th>\n",
       "      <td>1</td>\n",
       "      <td>1029</td>\n",
       "      <td>3.0</td>\n",
       "    </tr>\n",
       "    <tr>\n",
       "      <th>2</th>\n",
       "      <td>1</td>\n",
       "      <td>1061</td>\n",
       "      <td>3.0</td>\n",
       "    </tr>\n",
       "    <tr>\n",
       "      <th>3</th>\n",
       "      <td>1</td>\n",
       "      <td>1129</td>\n",
       "      <td>2.0</td>\n",
       "    </tr>\n",
       "    <tr>\n",
       "      <th>4</th>\n",
       "      <td>1</td>\n",
       "      <td>1172</td>\n",
       "      <td>4.0</td>\n",
       "    </tr>\n",
       "  </tbody>\n",
       "</table>\n",
       "</div>"
      ],
      "text/plain": [
       "   user  item  rating\n",
       "0     1    31     2.5\n",
       "1     1  1029     3.0\n",
       "2     1  1061     3.0\n",
       "3     1  1129     2.0\n",
       "4     1  1172     4.0"
      ]
     },
     "execution_count": 12,
     "metadata": {},
     "output_type": "execute_result"
    }
   ],
   "source": [
    "mr.head()"
   ]
  },
  {
   "cell_type": "code",
   "execution_count": 13,
   "id": "4671897f",
   "metadata": {},
   "outputs": [
    {
     "data": {
      "text/plain": [
       "Prediction(uid=1, iid=31, r_ui=2.5, est=2.3549926143129927, details={'was_impossible': False})"
      ]
     },
     "execution_count": 13,
     "metadata": {},
     "output_type": "execute_result"
    }
   ],
   "source": [
    "svd.predict(uid=1, iid=31, r_ui=2.5)"
   ]
  },
  {
   "cell_type": "code",
   "execution_count": 14,
   "id": "20e0d80b",
   "metadata": {},
   "outputs": [],
   "source": [
    "from surprise import NMF"
   ]
  },
  {
   "cell_type": "code",
   "execution_count": 15,
   "id": "5322b6cb",
   "metadata": {},
   "outputs": [],
   "source": [
    "nmf = NMF(n_factors=20)"
   ]
  },
  {
   "cell_type": "code",
   "execution_count": 16,
   "id": "945ebecb",
   "metadata": {},
   "outputs": [
    {
     "data": {
      "text/plain": [
       "<surprise.prediction_algorithms.matrix_factorization.NMF at 0x18d5cd44a60>"
      ]
     },
     "execution_count": 16,
     "metadata": {},
     "output_type": "execute_result"
    }
   ],
   "source": [
    "nmf.fit(mr_trainset)"
   ]
  },
  {
   "cell_type": "code",
   "execution_count": 17,
   "id": "35515dec",
   "metadata": {},
   "outputs": [
    {
     "data": {
      "text/plain": [
       "Prediction(uid=1, iid=31, r_ui=2.5, est=2.3974164329114105, details={'was_impossible': False})"
      ]
     },
     "execution_count": 17,
     "metadata": {},
     "output_type": "execute_result"
    }
   ],
   "source": [
    "nmf.predict(uid=1, iid=31, r_ui=2.5)"
   ]
  },
  {
   "cell_type": "code",
   "execution_count": 18,
   "id": "8822b7ff",
   "metadata": {},
   "outputs": [
    {
     "data": {
      "text/plain": [
       "<surprise.prediction_algorithms.matrix_factorization.NMF at 0x18d5ce8fc40>"
      ]
     },
     "execution_count": 18,
     "metadata": {},
     "output_type": "execute_result"
    }
   ],
   "source": [
    "nmf2 = NMF(n_factors=20, biased=True)\n",
    "nmf2.fit(mr_trainset)"
   ]
  },
  {
   "cell_type": "code",
   "execution_count": 19,
   "id": "2c14b97e",
   "metadata": {},
   "outputs": [
    {
     "data": {
      "text/plain": [
       "Prediction(uid=1, iid=31, r_ui=None, est=1.060015756972868, details={'was_impossible': False})"
      ]
     },
     "execution_count": 19,
     "metadata": {},
     "output_type": "execute_result"
    }
   ],
   "source": [
    "nmf2.predict(uid=1, iid=31)"
   ]
  },
  {
   "cell_type": "code",
   "execution_count": 20,
   "id": "12ea3df1",
   "metadata": {},
   "outputs": [],
   "source": [
    "from surprise.model_selection import KFold\n",
    "from surprise import accuracy"
   ]
  },
  {
   "cell_type": "code",
   "execution_count": 21,
   "id": "480f351f",
   "metadata": {},
   "outputs": [],
   "source": [
    "kf = KFold(n_splits=3)"
   ]
  },
  {
   "cell_type": "code",
   "execution_count": 22,
   "id": "f8d26904",
   "metadata": {},
   "outputs": [
    {
     "name": "stdout",
     "output_type": "stream",
     "text": [
      "RMSE: 0.8989\n",
      "MAE:  0.6925\n",
      "RMSE: 0.8866\n",
      "MAE:  0.6843\n",
      "RMSE: 0.9053\n",
      "MAE:  0.6965\n"
     ]
    }
   ],
   "source": [
    "for trainset, testset in kf.split(mr_train):\n",
    "    svd.fit(trainset)\n",
    "    predictions = svd.test(testset)\n",
    "    \n",
    "    accuracy.rmse(predictions, verbose=True)\n",
    "    accuracy.mae(predictions, verbose=True)"
   ]
  },
  {
   "cell_type": "code",
   "execution_count": 23,
   "id": "68fa7d73",
   "metadata": {},
   "outputs": [
    {
     "name": "stdout",
     "output_type": "stream",
     "text": [
      "RMSE: 0.9555\n",
      "MAE:  0.7273\n",
      "RMSE: 0.9602\n",
      "MAE:  0.7301\n",
      "RMSE: 0.9645\n",
      "MAE:  0.7359\n"
     ]
    }
   ],
   "source": [
    "for trainset, testset in kf.split(mr_train):\n",
    "    nmf.fit(trainset)\n",
    "    predictions = nmf.test(testset)\n",
    "    \n",
    "    accuracy.rmse(predictions, verbose=True)\n",
    "    accuracy.mae(predictions, verbose=True)"
   ]
  },
  {
   "cell_type": "code",
   "execution_count": 24,
   "id": "362e9fa4",
   "metadata": {},
   "outputs": [],
   "source": [
    "from surprise.model_selection import GridSearchCV"
   ]
  },
  {
   "cell_type": "code",
   "execution_count": 25,
   "id": "69d96613",
   "metadata": {},
   "outputs": [],
   "source": [
    "param_grid = {'n_factors':[15,20,25,30]}"
   ]
  },
  {
   "cell_type": "code",
   "execution_count": 26,
   "id": "26788275",
   "metadata": {},
   "outputs": [],
   "source": [
    "algo = SVD"
   ]
  },
  {
   "cell_type": "code",
   "execution_count": 27,
   "id": "fbd00c64",
   "metadata": {},
   "outputs": [],
   "source": [
    "grid_search = GridSearchCV(algo, param_grid=param_grid, measures=['rmse','mae'])"
   ]
  },
  {
   "cell_type": "code",
   "execution_count": 28,
   "id": "167ff377",
   "metadata": {},
   "outputs": [],
   "source": [
    "grid_search.fit(mr_train)"
   ]
  },
  {
   "cell_type": "code",
   "execution_count": 29,
   "id": "6b03f7ab",
   "metadata": {},
   "outputs": [
    {
     "name": "stdout",
     "output_type": "stream",
     "text": [
      "{'n_factors': 15}\n"
     ]
    }
   ],
   "source": [
    "print(grid_search.best_params['rmse'])"
   ]
  },
  {
   "cell_type": "code",
   "execution_count": 30,
   "id": "16453319",
   "metadata": {},
   "outputs": [
    {
     "name": "stdout",
     "output_type": "stream",
     "text": [
      "{'n_factors': 15}\n"
     ]
    }
   ],
   "source": [
    "print(grid_search.best_params['mae'])"
   ]
  },
  {
   "cell_type": "code",
   "execution_count": 31,
   "id": "e03a7696",
   "metadata": {},
   "outputs": [
    {
     "name": "stdout",
     "output_type": "stream",
     "text": [
      "0.8905107009475136\n"
     ]
    }
   ],
   "source": [
    "print(grid_search.best_score['rmse'])"
   ]
  },
  {
   "cell_type": "code",
   "execution_count": 32,
   "id": "1efc6bf2",
   "metadata": {},
   "outputs": [
    {
     "name": "stdout",
     "output_type": "stream",
     "text": [
      "0.6859596834068754\n"
     ]
    }
   ],
   "source": [
    "print(grid_search.best_score['mae'])"
   ]
  },
  {
   "cell_type": "code",
   "execution_count": 33,
   "id": "3ffc0b50",
   "metadata": {},
   "outputs": [],
   "source": [
    "grid_search = GridSearchCV(algo_class=NMF, param_grid=param_grid, measures=['rmse','mae'])"
   ]
  },
  {
   "cell_type": "code",
   "execution_count": 34,
   "id": "d4e680a0",
   "metadata": {},
   "outputs": [],
   "source": [
    "grid_search.fit(mr_train)"
   ]
  },
  {
   "cell_type": "code",
   "execution_count": 35,
   "id": "d5e3b1a5",
   "metadata": {},
   "outputs": [
    {
     "name": "stdout",
     "output_type": "stream",
     "text": [
      "{'n_factors': 20}\n"
     ]
    }
   ],
   "source": [
    "print(grid_search.best_params['rmse'])"
   ]
  },
  {
   "cell_type": "code",
   "execution_count": 36,
   "id": "8f6c3869",
   "metadata": {},
   "outputs": [
    {
     "name": "stdout",
     "output_type": "stream",
     "text": [
      "{'n_factors': 25}\n"
     ]
    }
   ],
   "source": [
    "print(grid_search.best_params['mae'])"
   ]
  },
  {
   "cell_type": "code",
   "execution_count": 37,
   "id": "1ba0ac1a",
   "metadata": {},
   "outputs": [
    {
     "name": "stdout",
     "output_type": "stream",
     "text": [
      "0.9472215253640949\n"
     ]
    }
   ],
   "source": [
    "print(grid_search.best_score['rmse'])"
   ]
  },
  {
   "cell_type": "code",
   "execution_count": 38,
   "id": "45665c1c",
   "metadata": {},
   "outputs": [
    {
     "name": "stdout",
     "output_type": "stream",
     "text": [
      "0.7194028944605494\n"
     ]
    }
   ],
   "source": [
    "print(grid_search.best_score['mae'])"
   ]
  }
 ],
 "metadata": {
  "kernelspec": {
   "display_name": "Python 3 (ipykernel)",
   "language": "python",
   "name": "python3"
  },
  "language_info": {
   "codemirror_mode": {
    "name": "ipython",
    "version": 3
   },
   "file_extension": ".py",
   "mimetype": "text/x-python",
   "name": "python",
   "nbconvert_exporter": "python",
   "pygments_lexer": "ipython3",
   "version": "3.8.11"
  }
 },
 "nbformat": 4,
 "nbformat_minor": 5
}
